{
 "cells": [
  {
   "cell_type": "code",
   "execution_count": 1,
   "metadata": {},
   "outputs": [],
   "source": [
    "\n",
    "import pandas as pd\n",
    "import numpy as np\n",
    "import tensorflow as tf\n",
    "from tensorflow.keras.preprocessing.text import Tokenizer\n",
    "from tensorflow.keras.preprocessing.sequence import pad_sequences\n",
    "from tensorflow.keras.models import Sequential\n",
    "from tensorflow.keras.layers import Embedding, LSTM, Dense, Dropout, Conv1D, GlobalMaxPooling1D, Reshape\n",
    "from tensorflow.keras.callbacks import EarlyStopping, ReduceLROnPlateau\n",
    "from sklearn.model_selection import train_test_split\n",
    "from sklearn.preprocessing import LabelEncoder\n",
    "import re\n",
    "import nltk\n",
    "from nltk.corpus import stopwords"
   ]
  },
  {
   "cell_type": "code",
   "execution_count": 2,
   "metadata": {},
   "outputs": [],
   "source": [
    "nltk.download('stopwords', quiet=True)\n",
    "stop_words = set(stopwords.words('english'))"
   ]
  },
  {
   "cell_type": "code",
   "execution_count": 5,
   "metadata": {},
   "outputs": [],
   "source": [
    "df = pd.read_csv(\"E:\\\\nlp_project\\\\sentiment_analysis.csv\", encoding=\"ISO-8859-1\", )"
   ]
  },
  {
   "cell_type": "code",
   "execution_count": 3,
   "metadata": {},
   "outputs": [],
   "source": [
    "def clean_text(text):\n",
    "    # Convert to lowercase\n",
    "    text = text.lower()\n",
    "    \n",
    "    # Remove URLs\n",
    "    text = re.sub(r'http\\S+|www\\S+|https\\S+', '', text, flags=re.MULTILINE)\n",
    "    \n",
    "    # Remove user @ references\n",
    "    text = re.sub(r'\\@\\w+','', text)\n",
    "    \n",
    "    # Remove punctuations\n",
    "    text = re.sub(r'[^\\w\\s]', '', text)\n",
    "    \n",
    "    # Remove stopwords\n",
    "    text = ' '.join([word for word in text.split() if word not in stop_words])\n",
    "    \n",
    "    return text"
   ]
  },
  {
   "cell_type": "code",
   "execution_count": 6,
   "metadata": {},
   "outputs": [],
   "source": [
    "df['target'] = df['target'].apply(lambda x: 1 if x == 4 else 0)\n",
    "df['cleaned_text'] = df['text'].apply(clean_text)"
   ]
  },
  {
   "cell_type": "code",
   "execution_count": 7,
   "metadata": {},
   "outputs": [],
   "source": [
    "max_features = 5000\n",
    "max_len = 50"
   ]
  },
  {
   "cell_type": "code",
   "execution_count": 8,
   "metadata": {},
   "outputs": [],
   "source": [
    "tokenizer = Tokenizer(num_words=max_features)\n",
    "tokenizer.fit_on_texts(df['cleaned_text'])\n",
    "X = tokenizer.texts_to_sequences(df['cleaned_text'])\n",
    "X = pad_sequences(X, maxlen=max_len)\n",
    "\n",
    "y = df['target'].values"
   ]
  },
  {
   "cell_type": "code",
   "execution_count": 9,
   "metadata": {},
   "outputs": [],
   "source": [
    "X_train, X_test, y_train, y_test = train_test_split(X, y, test_size=0.2, random_state=42)"
   ]
  },
  {
   "cell_type": "code",
   "execution_count": 12,
   "metadata": {},
   "outputs": [],
   "source": [
    "early_stopping = EarlyStopping(\n",
    "    monitor='val_loss',\n",
    "    patience=2,\n",
    "    restore_best_weights=True\n",
    ")\n",
    "reduce_lr = ReduceLROnPlateau(\n",
    "    monitor='val_loss',\n",
    "    factor=0.5,\n",
    "    patience=1,\n",
    "    min_lr=0.00001\n",
    ")\n",
    "callbacks = [early_stopping, reduce_lr]"
   ]
  },
  {
   "cell_type": "code",
   "execution_count": 11,
   "metadata": {},
   "outputs": [
    {
     "name": "stdout",
     "output_type": "stream",
     "text": [
      "WARNING:tensorflow:Layer lstm will not use cuDNN kernels since it doesn't meet the criteria. It will use a generic GPU kernel as fallback when running on GPU.\n"
     ]
    }
   ],
   "source": [
    "lstm_model = Sequential([\n",
    "    Embedding(max_features, 64, input_length=max_len),\n",
    "    LSTM(64, dropout=0.2, recurrent_dropout=0.2),\n",
    "    Dense(32, activation='relu'),\n",
    "    Dropout(0.5),\n",
    "    Dense(1, activation='sigmoid')\n",
    "])\n",
    "lstm_model.compile(optimizer='adam', loss='binary_crossentropy', metrics=['accuracy'])"
   ]
  },
  {
   "cell_type": "code",
   "execution_count": 13,
   "metadata": {},
   "outputs": [
    {
     "name": "stdout",
     "output_type": "stream",
     "text": [
      "Epoch 1/10\n",
      "8000/8000 [==============================] - 799s 99ms/step - loss: 0.4910 - accuracy: 0.7655 - val_loss: 0.4633 - val_accuracy: 0.7790 - lr: 0.0010\n",
      "Epoch 2/10\n",
      "8000/8000 [==============================] - 777s 97ms/step - loss: 0.4645 - accuracy: 0.7822 - val_loss: 0.4582 - val_accuracy: 0.7817 - lr: 0.0010\n",
      "Epoch 3/10\n",
      "8000/8000 [==============================] - 814s 102ms/step - loss: 0.4528 - accuracy: 0.7887 - val_loss: 0.4549 - val_accuracy: 0.7847 - lr: 0.0010\n",
      "Epoch 4/10\n",
      "8000/8000 [==============================] - 797s 100ms/step - loss: 0.4441 - accuracy: 0.7940 - val_loss: 0.4553 - val_accuracy: 0.7847 - lr: 0.0010\n",
      "Epoch 5/10\n",
      "8000/8000 [==============================] - 789s 99ms/step - loss: 0.4286 - accuracy: 0.8023 - val_loss: 0.4575 - val_accuracy: 0.7839 - lr: 5.0000e-04\n"
     ]
    }
   ],
   "source": [
    "lstm_history = lstm_model.fit(\n",
    "    X_train, y_train, \n",
    "    epochs=10, \n",
    "    batch_size=64, \n",
    "    validation_split=0.2,\n",
    "    callbacks=callbacks,\n",
    "    verbose=1\n",
    ")"
   ]
  },
  {
   "cell_type": "code",
   "execution_count": 14,
   "metadata": {},
   "outputs": [
    {
     "name": "stdout",
     "output_type": "stream",
     "text": [
      "\n",
      "LSTM Test Accuracy: 0.7842\n"
     ]
    }
   ],
   "source": [
    "lstm_loss, lstm_accuracy = lstm_model.evaluate(X_test, y_test, verbose=0)\n",
    "print(f\"\\nLSTM Test Accuracy: {lstm_accuracy:.4f}\")"
   ]
  },
  {
   "cell_type": "code",
   "execution_count": 15,
   "metadata": {},
   "outputs": [],
   "source": [
    "cnn_model = Sequential([\n",
    "    Embedding(max_features, 64, input_length=max_len),\n",
    "    Conv1D(64, 5, activation='relu'),\n",
    "    GlobalMaxPooling1D(),\n",
    "    Dense(32, activation='relu'),\n",
    "    Dropout(0.5),\n",
    "    Dense(1, activation='sigmoid')\n",
    "])\n",
    "cnn_model.compile(optimizer='adam', loss='binary_crossentropy', metrics=['accuracy'])"
   ]
  },
  {
   "cell_type": "code",
   "execution_count": 16,
   "metadata": {},
   "outputs": [
    {
     "name": "stdout",
     "output_type": "stream",
     "text": [
      "Epoch 1/10\n",
      "8000/8000 [==============================] - 33s 3ms/step - loss: 0.4933 - accuracy: 0.7648 - val_loss: 0.4649 - val_accuracy: 0.7784 - lr: 0.0010\n",
      "Epoch 2/10\n",
      "8000/8000 [==============================] - 24s 3ms/step - loss: 0.4595 - accuracy: 0.7860 - val_loss: 0.4607 - val_accuracy: 0.7803 - lr: 0.0010\n",
      "Epoch 3/10\n",
      "8000/8000 [==============================] - 23s 3ms/step - loss: 0.4361 - accuracy: 0.7984 - val_loss: 0.4683 - val_accuracy: 0.7790 - lr: 0.0010\n",
      "Epoch 4/10\n",
      "8000/8000 [==============================] - 23s 3ms/step - loss: 0.3944 - accuracy: 0.8202 - val_loss: 0.4945 - val_accuracy: 0.7742 - lr: 5.0000e-04\n"
     ]
    }
   ],
   "source": [
    "cnn_history = cnn_model.fit(\n",
    "    X_train, y_train, \n",
    "    epochs=10, \n",
    "    batch_size=64, \n",
    "    validation_split=0.2,\n",
    "    callbacks=callbacks,\n",
    "    verbose=1\n",
    ")\n"
   ]
  },
  {
   "cell_type": "code",
   "execution_count": 17,
   "metadata": {},
   "outputs": [
    {
     "name": "stdout",
     "output_type": "stream",
     "text": [
      "\n",
      "CNN Test Accuracy: 0.7800\n"
     ]
    }
   ],
   "source": [
    "cnn_loss, cnn_accuracy = cnn_model.evaluate(X_test, y_test, verbose=0)\n",
    "print(f\"\\nCNN Test Accuracy: {cnn_accuracy:.4f}\")"
   ]
  },
  {
   "cell_type": "code",
   "execution_count": null,
   "metadata": {},
   "outputs": [
    {
     "name": "stdout",
     "output_type": "stream",
     "text": [
      "WARNING:tensorflow:Layer lstm_1 will not use cuDNN kernels since it doesn't meet the criteria. It will use a generic GPU kernel as fallback when running on GPU.\n"
     ]
    }
   ],
   "source": [
    "hybrid_model = Sequential([\n",
    "    Embedding(max_features, 64, input_length=max_len),\n",
    "    Conv1D(32, 5, activation='relu'),\n",
    "    Reshape((max_len-4, 32)),\n",
    "    LSTM(64, dropout=0.2, recurrent_dropout=0.2),\n",
    "    Dense(32, activation='relu'),\n",
    "    Dropout(0.5),\n",
    "    Dense(1, activation='sigmoid')\n",
    "])\n",
    "hybrid_model.compile(optimizer='adam', loss='binary_crossentropy', metrics=['accuracy'])"
   ]
  },
  {
   "cell_type": "code",
   "execution_count": 19,
   "metadata": {},
   "outputs": [
    {
     "name": "stdout",
     "output_type": "stream",
     "text": [
      "Epoch 1/10\n",
      "8000/8000 [==============================] - 661s 82ms/step - loss: 0.4912 - accuracy: 0.7661 - val_loss: 0.4634 - val_accuracy: 0.7775 - lr: 0.0010\n",
      "Epoch 2/10\n",
      "8000/8000 [==============================] - 671s 84ms/step - loss: 0.4617 - accuracy: 0.7843 - val_loss: 0.4610 - val_accuracy: 0.7814 - lr: 0.0010\n",
      "Epoch 3/10\n",
      "8000/8000 [==============================] - 667s 83ms/step - loss: 0.4449 - accuracy: 0.7935 - val_loss: 0.4595 - val_accuracy: 0.7819 - lr: 0.0010\n",
      "Epoch 4/10\n",
      "8000/8000 [==============================] - 661s 83ms/step - loss: 0.4283 - accuracy: 0.8036 - val_loss: 0.4696 - val_accuracy: 0.7798 - lr: 0.0010\n",
      "Epoch 5/10\n",
      "8000/8000 [==============================] - 747s 93ms/step - loss: 0.3969 - accuracy: 0.8204 - val_loss: 0.4886 - val_accuracy: 0.7750 - lr: 5.0000e-04\n"
     ]
    }
   ],
   "source": [
    "hybrid_history = hybrid_model.fit(\n",
    "    X_train, y_train, \n",
    "    epochs=10, \n",
    "    batch_size=64, \n",
    "    validation_split=0.2,\n",
    "    callbacks=callbacks,\n",
    "    verbose=1\n",
    ")\n"
   ]
  },
  {
   "cell_type": "code",
   "execution_count": 20,
   "metadata": {},
   "outputs": [
    {
     "name": "stdout",
     "output_type": "stream",
     "text": [
      "\n",
      "Hybrid LSTM-CNN Test Accuracy: 0.7814\n"
     ]
    }
   ],
   "source": [
    "hybrid_loss, hybrid_accuracy = hybrid_model.evaluate(X_test, y_test, verbose=0)\n",
    "print(f\"\\nHybrid LSTM-CNN Test Accuracy: {hybrid_accuracy:.4f}\")"
   ]
  },
  {
   "cell_type": "code",
   "execution_count": null,
   "metadata": {},
   "outputs": [],
   "source": []
  }
 ],
 "metadata": {
  "kernelspec": {
   "display_name": "tf",
   "language": "python",
   "name": "python3"
  },
  "language_info": {
   "codemirror_mode": {
    "name": "ipython",
    "version": 3
   },
   "file_extension": ".py",
   "mimetype": "text/x-python",
   "name": "python",
   "nbconvert_exporter": "python",
   "pygments_lexer": "ipython3",
   "version": "3.9.21"
  }
 },
 "nbformat": 4,
 "nbformat_minor": 2
}
